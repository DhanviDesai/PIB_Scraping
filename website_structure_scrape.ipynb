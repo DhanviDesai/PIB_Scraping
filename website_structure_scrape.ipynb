{
 "cells": [
  {
   "cell_type": "code",
   "execution_count": 28,
   "metadata": {},
   "outputs": [],
   "source": [
    "import requests\n",
    "from bs4 import BeautifulSoup"
   ]
  },
  {
   "cell_type": "code",
   "execution_count": 39,
   "metadata": {},
   "outputs": [
    {
     "name": "stdout",
     "output_type": "stream",
     "text": [
      "President's Secretariat\n",
      "PRESS COMMUNIQUE\n",
      "Posted On: 28 JUN 2020 10:35PM by PIB Delhi\n",
      "The President of India is pleased to appoint Smt. Anandiben Patel, Governor of Uttar Pradesh to discharge the functions of the Governor of Madhya Pradesh, in addition to her own duties, during the absence on leave of Shri Lal Ji Tandon, Governor of Madhya Pradesh.\n",
      "*****\n",
      "VRRK/AK\n",
      "7\n"
     ]
    }
   ],
   "source": [
    "r = requests.get(\"https://www.pib.gov.in/PressReleasePage.aspx?PRID=1635076\")\n",
    "soup = BeautifulSoup(r.text,\"html.parser\")\n",
    "div_text_center = soup.find_all(\"div\",attrs={\"class\":\"text-center\"})\n",
    "for div in div_text_center:\n",
    "    if(div.text.strip() != \"\"):\n",
    "        text = ' '.join(div.text.split())\n",
    "        print(text)\n",
    "p_tags = soup.find_all(\"p\")\n",
    "go_through = len(p_tags)//2\n",
    "# print(len(p_tags))\n",
    "for p in p_tags[:go_through]:\n",
    "    if(p.text.strip() != \"\"):\n",
    "        text = ' '.join(p.text.split())\n",
    "        print(text)\n",
    "release_lang = soup.find(\"div\",attrs={\"class\":\"ReleaseLang\"})\n",
    "# print(release_lang)\n",
    "a_tags = release_lang.find_all(\"a\")\n",
    "print(len(a_tags))"
   ]
  },
  {
   "cell_type": "code",
   "execution_count": null,
   "metadata": {},
   "outputs": [],
   "source": []
  }
 ],
 "metadata": {
  "kernelspec": {
   "display_name": "Python 3",
   "language": "python",
   "name": "python3"
  },
  "language_info": {
   "codemirror_mode": {
    "name": "ipython",
    "version": 3
   },
   "file_extension": ".py",
   "mimetype": "text/x-python",
   "name": "python",
   "nbconvert_exporter": "python",
   "pygments_lexer": "ipython3",
   "version": "3.8.3"
  }
 },
 "nbformat": 4,
 "nbformat_minor": 4
}
