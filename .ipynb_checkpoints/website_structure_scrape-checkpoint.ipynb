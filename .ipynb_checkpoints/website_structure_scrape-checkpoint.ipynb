{
 "cells": [
  {
   "cell_type": "code",
   "execution_count": 1,
   "metadata": {},
   "outputs": [],
   "source": [
    "import requests\n",
    "from bs4 import BeautifulSoup"
   ]
  },
  {
   "cell_type": "code",
   "execution_count": 2,
   "metadata": {},
   "outputs": [
    {
     "name": "stdout",
     "output_type": "stream",
     "text": [
      "Prime Minister's Office\n",
      "Prime Minister says Government open for discussion on all issues in the forthcoming Budget Session of Parliament Says greater focus should be on economic issues to let the country gain from the prevailing global situationSays increasing Parliament’s productivity is the responsibility of every Member\n",
      "Posted On: 30 JAN 2020 2:54PM by PIB Delhi\n",
      "Prime Minister Shri Narendra Modi today said the Government is open for discussion on all issues in the forthcoming Budget Session of Parliament. He was addressing the all party meeting on the eve of the Budget session which is beginning on the 31st of January 2020.\n",
      "In his concluding remarks the Prime Minister welcomed the suggestions of most of the Members that the session should focus on the prevailing economic situation in the country.\n",
      "He said, “Most of the members have asked for discussion on the Economic situation concerning the country. I welcome this and we need to discuss the economic issues as suggested by you all.”\n",
      "Prime Minister urged the members to see how the country can gain from the prevailing global economic scenario.\n",
      "He said, “We should focus on how we can turn the global scenario in favour of India”\n",
      "“And in this budget session, and in the beginning of the New Year if we can give a proper direction to the country’s economy it would be in the best interest of the country”, he said.\n",
      "On the other issues raised by the members the Prime Minister said, “I agree with you all on the other important issues raised by you. And I would like to say that there should be an open discussion on all such issues.”\n",
      "Further the Prime Minister requested the Members to see to it that they contribute to increasing the productivity of the session and the Parliament.\n",
      "Referring to the last two sessions the Prime Minister said, “This is about the productivity of the session and the Parliament. In the last two sessions we saw the increased productivity and the great public response in favour of it. As people’s representatives, it is our responsibility to increase the productivity of the House, while we discuss all issues with an open mind.”\n",
      "MPs from all parties along with the Minister of Defence, Shri Rajnath Singh, Minister of Parliamentary Affairs, Shri Prahlad Joshi, Ministers of State for Parliamentary Affairs Shri Arjun Ram Meghwal and Shri V Muraleedharan attended the meeting.\n",
      "**********\n",
      "VRRK/AKP\n",
      "10\n"
     ]
    }
   ],
   "source": [
    "r = requests.get(\"https://www.pib.gov.in/PressReleasePage.aspx?PRID=1601106\")\n",
    "soup = BeautifulSoup(r.text,\"html.parser\")\n",
    "div_text_center = soup.find_all(\"div\",attrs={\"class\":\"text-center\"})\n",
    "for div in div_text_center:\n",
    "    if(div.text.strip() != \"\"):\n",
    "        text = div.text.strip()\n",
    "        print(text)\n",
    "p_tags = soup.find_all(\"p\")\n",
    "go_through = len(p_tags)//2\n",
    "# print(len(p_tags))\n",
    "for p in p_tags[:go_through]:\n",
    "    if(p.text.strip() != \"\"):\n",
    "        text = ' '.join(p.text.split())\n",
    "        print(text)\n",
    "release_lang = soup.find(\"div\",attrs={\"class\":\"ReleaseLang\"})\n",
    "# print(release_lang)\n",
    "a_tags = release_lang.find_all(\"a\")\n",
    "print(len(a_tags))"
   ]
  },
  {
   "cell_type": "code",
   "execution_count": null,
   "metadata": {},
   "outputs": [],
   "source": []
  }
 ],
 "metadata": {
  "kernelspec": {
   "display_name": "Python 3",
   "language": "python",
   "name": "python3"
  },
  "language_info": {
   "codemirror_mode": {
    "name": "ipython",
    "version": 3
   },
   "file_extension": ".py",
   "mimetype": "text/x-python",
   "name": "python",
   "nbconvert_exporter": "python",
   "pygments_lexer": "ipython3",
   "version": "3.8.3"
  }
 },
 "nbformat": 4,
 "nbformat_minor": 4
}
